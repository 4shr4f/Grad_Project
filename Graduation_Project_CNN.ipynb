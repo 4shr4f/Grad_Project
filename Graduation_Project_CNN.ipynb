{
  "cells": [
    {
      "cell_type": "markdown",
      "metadata": {
        "id": "OfvF6JGZ556X"
      },
      "source": [
        "## Import Necessary Libraries"
      ]
    },
    {
      "cell_type": "code",
      "execution_count": null,
      "metadata": {
        "id": "4znJf-_r50-R"
      },
      "outputs": [],
      "source": [
        "import os\n",
        "import pandas as pd\n",
        "from scipy.io import loadmat\n",
        "import numpy as np\n",
        "import scipy.io\n",
        "from sklearn.model_selection import train_test_split, KFold\n",
        "from sklearn.metrics import confusion_matrix\n",
        "import tensorflow as tf\n",
        "from tensorflow.keras import layers, models\n",
        "import matplotlib.pyplot as plt\n",
        "import seaborn as sns\n"
      ]
    },
    {
      "cell_type": "code",
      "execution_count": null,
      "metadata": {
        "id": "99Ym-8UOoptK",
        "colab": {
          "base_uri": "https://localhost:8080/"
        },
        "outputId": "f92e1e73-b0b9-4a61-9e31-7f1687df2bd2"
      },
      "outputs": [
        {
          "output_type": "stream",
          "name": "stdout",
          "text": [
            "Mounted at /content/drive/\n"
          ]
        }
      ],
      "source": [
        "from google.colab import drive\n",
        "drive.mount('/content/drive/')\n",
        "\n",
        "\n",
        "# Download the list of folders from Google Drive\n",
        "main_dir = \"/content/drive/MyDrive/CRWU\"\n"
      ]
    },
    {
      "cell_type": "markdown",
      "metadata": {
        "id": "_aCiAUKg5_4h"
      },
      "source": [
        "## Load and combine the data\n",
        "\n",
        "in dataset folder we have many folders, each folder conatins .mat files of diffrent HP (motor load), we need to combine all the data in each folder to one csv file."
      ]
    },
    {
      "cell_type": "code",
      "execution_count": null,
      "metadata": {
        "id": "12fFzvCs6BtP",
        "colab": {
          "base_uri": "https://localhost:8080/"
        },
        "outputId": "41c901d3-f050-492b-da59-6bdff66042bb"
      },
      "outputs": [
        {
          "output_type": "stream",
          "name": "stdout",
          "text": [
            "Processed 12k_DE_BallFault_0.021 folder\n",
            "Processed 12k_DE_ORFault_0.007 folder\n",
            "Processed 12k_DE_IRFault_0.014 folder\n",
            "Processed 12k_DE_ORFault_0.021 folder\n",
            "Processed 12k_DE_ORFault_0.014 folder\n",
            "Processed 12k_DE_BallFault_0.007 folder\n",
            "Processed 12k_DE_IRFault_0.021 folder\n",
            "Processed 12k_DE_IRFault_0.007 folder\n",
            "Processed 12k_DE_BallFault_0.014 folder\n",
            "Processed 12K_DE_Normal folder\n",
            "Done\n"
          ]
        },
        {
          "output_type": "execute_result",
          "data": {
            "text/plain": [
              "array([[ 0.06425354],\n",
              "       [ 0.06300185],\n",
              "       [-0.00438092],\n",
              "       ...,\n",
              "       [ 0.00521538],\n",
              "       [-0.06571385],\n",
              "       [-0.12266585]])"
            ]
          },
          "metadata": {},
          "execution_count": 3
        }
      ],
      "source": [
        "dataset_dir = os.path.join(main_dir)\n",
        "\n",
        "for folder in os.listdir(dataset_dir):\n",
        "    folder_path = os.path.join(dataset_dir, folder)\n",
        "\n",
        "    if os.path.isdir(folder_path):\n",
        "\n",
        "        #combine all the .mat files in the folder to a single csv file\n",
        "        all_data = []\n",
        "\n",
        "        for file in os.listdir(folder_path):\n",
        "            file_path = os.path.join(folder_path, file)\n",
        "            if file.endswith('.mat'):\n",
        "\n",
        "                data = loadmat(file_path)\n",
        "\n",
        "                file_name = file.split('.')[0]\n",
        "                key = 'X' + file_name.zfill(3) + '_DE_time'\n",
        "                data = data[key]\n",
        "\n",
        "                df = pd.DataFrame(data)\n",
        "\n",
        "                all_data.append(df)\n",
        "\n",
        "                df.to_csv(os.path.join(folder_path, file_name + '.csv'), index=False)\n",
        "\n",
        "\n",
        "        all_data = pd.concat(all_data)\n",
        "        all_data.to_csv(os.path.join(folder_path, folder + '.csv'), index=False)\n",
        "\n",
        "        print(f'Processed {folder} folder')\n",
        "\n",
        "print('Done')\n",
        "data\n"
      ]
    },
    {
      "cell_type": "markdown",
      "metadata": {
        "id": "X5Y1wptTabJc"
      },
      "source": [
        "Function 1: Sampling\n",
        "\n",
        "This function cuts a big dataset into smaller pieces (blocks).\n",
        "\n",
        "Inputs:\n",
        "\n",
        "Data: The big dataset.\n",
        "\n",
        "interval_length: How far apart to start each piece.\n",
        "\n",
        "samples_per_block: How many samples each piece should have.\n",
        "\n",
        "Steps:\n",
        "\n",
        "Figure out how many pieces (blocks) we can make.\n",
        "\n",
        "Create an empty container to hold these pieces.\n",
        "\n",
        "Loop through the dataset and cut out pieces of the specified size.\n",
        "\n",
        "Output:\n",
        "\n",
        "A collection of smaller pieces from the big dataset.\n",
        "\n",
        "Function 2: DataPreparation\n",
        "\n",
        "This function uses the Sampling function to prepare multiple big datasets for machine learning.\n",
        "\n",
        "\n",
        "Inputs:\n",
        "\n",
        "Data: A list of several big datasets.\n",
        "\n",
        "interval_length: Same as above, how far apart to start each piece.\n",
        "\n",
        "samples_per_block: Same as above, how many samples each piece should have.\n",
        "\n",
        "Steps:\n",
        "\n",
        "For each dataset in the list:\n",
        "\n",
        "Use Sampling to cut it into pieces.\n",
        "\n",
        "Create labels for these pieces to know where they came from.\n",
        "\n",
        "If it’s the first dataset, start with an empty collection for pieces and labels.\n",
        "For the rest of the datasets, keep adding the new pieces and labels to the existing collection.\n",
        "\n",
        "Output:\n",
        "\n",
        "X: All the pieces from all the datasets combined.\n",
        "\n",
        "LabelPositional: Labels showing which dataset each piece came from, in a special format for machine learning.\n",
        "\n",
        "Label: Simple labels showing which dataset each piece came from.\n",
        "\n",
        "In short:\n",
        "\n",
        "Sampling cuts datasets into smaller pieces.\n",
        "\n",
        "DataPreparation uses Sampling to cut several datasets, labels them, and combines everything for machine learning."
      ]
    },
    {
      "cell_type": "code",
      "execution_count": null,
      "metadata": {
        "id": "c7MDcH3P6Evs",
        "colab": {
          "base_uri": "https://localhost:8080/"
        },
        "outputId": "523703d0-ffec-462e-f6da-4455d9d00ed6"
      },
      "outputs": [
        {
          "output_type": "stream",
          "name": "stdout",
          "text": [
            "Shape of Input Data = (40106, 1681)\n",
            "Shape of Label Y_CNN = (40106, 10)\n",
            "Shape of Label Y = (40106, 1)\n"
          ]
        }
      ],
      "source": [
        "def Sampling(Data, interval_length, samples_per_block):\n",
        "  # Calculate the number of blocks that can be sampled based on the interval length\n",
        "  No_of_blocks = (round(len(Data)/interval_length) - round(samples_per_block/interval_length)-1)\n",
        "  SplitData = np.zeros([No_of_blocks, samples_per_block])\n",
        "  for i in range(No_of_blocks):\n",
        "    SplitData[i,:] = (Data[i*interval_length:(i*interval_length)+samples_per_block]).T\n",
        "  return SplitData\n",
        "\n",
        "def DataPreparation(Data, interval_length, samples_per_block):\n",
        "  for count,i in enumerate(Data):\n",
        "    SplitData = Sampling(i, interval_length, samples_per_block)\n",
        "    y = np.zeros([len(SplitData),10])\n",
        "    y[:,count] = 1\n",
        "    y1 = np.zeros([len(SplitData),1])\n",
        "    y1[:,0] = count\n",
        "    # Stack up and label the data\n",
        "    if count==0:\n",
        "      X = SplitData\n",
        "      LabelPositional = y\n",
        "      Label = y1\n",
        "    else:\n",
        "      X = np.append(X, SplitData, axis=0)\n",
        "      LabelPositional = np.append(LabelPositional,y,axis=0)\n",
        "      Label = np.append(Label,y1,axis=0)\n",
        "  return X, LabelPositional, Label\n",
        "\n",
        "\n",
        "\n",
        "ball_007 = pd.read_csv('/content/drive/MyDrive/CRWU/12k_DE_BallFault_0.007/12k_DE_BallFault_0.007.csv')\n",
        "ball_014 = pd.read_csv('/content/drive/MyDrive/CRWU/12k_DE_BallFault_0.014/12k_DE_BallFault_0.014.csv')\n",
        "ball_021 = pd.read_csv('/content/drive/MyDrive/CRWU/12k_DE_BallFault_0.021/12k_DE_BallFault_0.021.csv')\n",
        "ir_007 = pd.read_csv('/content/drive/MyDrive/CRWU/12k_DE_IRFault_0.007/12k_DE_IRFault_0.007.csv')\n",
        "ir_014 = pd.read_csv('/content/drive/MyDrive/CRWU/12k_DE_IRFault_0.014/12k_DE_IRFault_0.014.csv')\n",
        "ir_021 = pd.read_csv('/content/drive/MyDrive/CRWU/12k_DE_IRFault_0.021/12k_DE_IRFault_0.021.csv')\n",
        "normal = pd.read_csv('/content/drive/MyDrive/CRWU/12K_DE_Normal/12K_DE_Normal.csv')\n",
        "or_007 = pd.read_csv('/content/drive/MyDrive/CRWU/12k_DE_ORFault_0.007/12k_DE_ORFault_0.007.csv')\n",
        "or_014 = pd.read_csv('/content/drive/MyDrive/CRWU/12k_DE_ORFault_0.014/12k_DE_ORFault_0.014.csv')\n",
        "or_021 = pd.read_csv('/content/drive/MyDrive/CRWU/12k_DE_ORFault_0.021/12k_DE_ORFault_0.021.csv')\n",
        "\n",
        "data_to_process = [normal, ir_007, ball_007, or_007, ir_014, ball_014, or_014, ir_021, ball_021, or_021]\n",
        "\n",
        "interval_length = 200\n",
        "samples_per_block = 1681\n",
        "\n",
        "X, Y_CNN, Y = DataPreparation(data_to_process, interval_length, samples_per_block)\n",
        "\n",
        "print('Shape of Input Data =', X.shape)\n",
        "print('Shape of Label Y_CNN =', Y_CNN.shape)\n",
        "print('Shape of Label Y =', Y.shape)\n"
      ]
    },
    {
      "cell_type": "code",
      "execution_count": null,
      "metadata": {
        "id": "NCg1joZp6ORZ"
      },
      "outputs": [],
      "source": [
        "XX = {'X':X}\n",
        "scipy.io.savemat('Data.mat', XX)"
      ]
    },
    {
      "cell_type": "markdown",
      "metadata": {
        "id": "juV5ubYf6PDD"
      },
      "source": [
        "# k-fold cross validation\n"
      ]
    },
    {
      "cell_type": "code",
      "execution_count": null,
      "metadata": {
        "id": "4gATKTd76bjx"
      },
      "outputs": [],
      "source": [
        "# k-fold cross validation\n",
        "kSplits = 3\n",
        "kfold = KFold(n_splits=kSplits, random_state=32, shuffle=True)"
      ]
    },
    {
      "cell_type": "markdown",
      "metadata": {
        "id": "4L9315Pt6UQ2"
      },
      "source": [
        "## 1D CNN model\n"
      ]
    },
    {
      "cell_type": "code",
      "execution_count": null,
      "metadata": {
        "id": "b5ZXLqjP6Vhp",
        "colab": {
          "base_uri": "https://localhost:8080/"
        },
        "outputId": "8c2c9e14-ea05-4801-d9e0-35e992732a11"
      },
      "outputs": [
        {
          "output_type": "stream",
          "name": "stdout",
          "text": [
            "Epoch 1/12\n",
            "627/627 [==============================] - 10s 7ms/step - loss: 0.4380 - accuracy: 0.8381\n",
            "Epoch 2/12\n",
            "627/627 [==============================] - 3s 5ms/step - loss: 0.0637 - accuracy: 0.9762\n",
            "Epoch 3/12\n",
            "627/627 [==============================] - 3s 5ms/step - loss: 0.0576 - accuracy: 0.9794\n",
            "Epoch 4/12\n",
            "627/627 [==============================] - 4s 6ms/step - loss: 0.0320 - accuracy: 0.9886\n",
            "Epoch 5/12\n",
            "627/627 [==============================] - 4s 6ms/step - loss: 0.0286 - accuracy: 0.9900\n",
            "Epoch 6/12\n",
            "627/627 [==============================] - 3s 5ms/step - loss: 0.0293 - accuracy: 0.9902\n",
            "Epoch 7/12\n",
            "627/627 [==============================] - 3s 5ms/step - loss: 0.0162 - accuracy: 0.9941\n",
            "Epoch 8/12\n",
            "627/627 [==============================] - 4s 6ms/step - loss: 0.0228 - accuracy: 0.9919\n",
            "Epoch 9/12\n",
            "627/627 [==============================] - 4s 6ms/step - loss: 0.0112 - accuracy: 0.9958\n",
            "Epoch 10/12\n",
            "627/627 [==============================] - 3s 5ms/step - loss: 0.0283 - accuracy: 0.9917\n",
            "Epoch 11/12\n",
            "627/627 [==============================] - 3s 5ms/step - loss: 0.0104 - accuracy: 0.9963\n",
            "Epoch 12/12\n",
            "627/627 [==============================] - 4s 7ms/step - loss: 0.0075 - accuracy: 0.9973\n",
            "314/314 [==============================] - 2s 5ms/step - loss: 0.0125 - accuracy: 0.9970\n",
            "Epoch 1/12\n",
            "627/627 [==============================] - 6s 6ms/step - loss: 0.4879 - accuracy: 0.8100\n",
            "Epoch 2/12\n",
            "627/627 [==============================] - 3s 5ms/step - loss: 0.0716 - accuracy: 0.9742\n",
            "Epoch 3/12\n",
            "627/627 [==============================] - 4s 6ms/step - loss: 0.0478 - accuracy: 0.9826\n",
            "Epoch 4/12\n",
            "627/627 [==============================] - 4s 6ms/step - loss: 0.0334 - accuracy: 0.9887\n",
            "Epoch 5/12\n",
            "627/627 [==============================] - 3s 5ms/step - loss: 0.0228 - accuracy: 0.9918\n",
            "Epoch 6/12\n",
            "627/627 [==============================] - 3s 5ms/step - loss: 0.0313 - accuracy: 0.9894\n",
            "Epoch 7/12\n",
            "627/627 [==============================] - 4s 6ms/step - loss: 0.0179 - accuracy: 0.9935\n",
            "Epoch 8/12\n",
            "627/627 [==============================] - 4s 6ms/step - loss: 0.0299 - accuracy: 0.9898\n",
            "Epoch 9/12\n",
            "627/627 [==============================] - 3s 5ms/step - loss: 0.0090 - accuracy: 0.9969\n",
            "Epoch 10/12\n",
            "627/627 [==============================] - 3s 5ms/step - loss: 0.0209 - accuracy: 0.9930\n",
            "Epoch 11/12\n",
            "627/627 [==============================] - 4s 6ms/step - loss: 0.0092 - accuracy: 0.9967\n",
            "Epoch 12/12\n",
            "627/627 [==============================] - 4s 6ms/step - loss: 0.0167 - accuracy: 0.9950\n",
            "314/314 [==============================] - 1s 3ms/step - loss: 0.0077 - accuracy: 0.9975\n",
            "Epoch 1/12\n",
            "627/627 [==============================] - 6s 6ms/step - loss: 0.4431 - accuracy: 0.8358\n",
            "Epoch 2/12\n",
            "627/627 [==============================] - 4s 6ms/step - loss: 0.0595 - accuracy: 0.9797\n",
            "Epoch 3/12\n",
            "627/627 [==============================] - 3s 5ms/step - loss: 0.0435 - accuracy: 0.9840\n",
            "Epoch 4/12\n",
            "627/627 [==============================] - 3s 5ms/step - loss: 0.0245 - accuracy: 0.9908\n",
            "Epoch 5/12\n",
            "627/627 [==============================] - 4s 6ms/step - loss: 0.0287 - accuracy: 0.9900\n",
            "Epoch 6/12\n",
            "627/627 [==============================] - 4s 6ms/step - loss: 0.0314 - accuracy: 0.9896\n",
            "Epoch 7/12\n",
            "627/627 [==============================] - 3s 5ms/step - loss: 0.0263 - accuracy: 0.9913\n",
            "Epoch 8/12\n",
            "627/627 [==============================] - 3s 5ms/step - loss: 0.0133 - accuracy: 0.9956\n",
            "Epoch 9/12\n",
            "627/627 [==============================] - 4s 6ms/step - loss: 0.0096 - accuracy: 0.9965\n",
            "Epoch 10/12\n",
            "627/627 [==============================] - 4s 6ms/step - loss: 0.0231 - accuracy: 0.9919\n",
            "Epoch 11/12\n",
            "627/627 [==============================] - 3s 5ms/step - loss: 0.0123 - accuracy: 0.9959\n",
            "Epoch 12/12\n",
            "627/627 [==============================] - 3s 5ms/step - loss: 0.0199 - accuracy: 0.9934\n",
            "314/314 [==============================] - 1s 3ms/step - loss: 0.0070 - accuracy: 0.9984\n",
            "CNN 1D train accuracy = 99.76395765940347\n",
            "314/314 [==============================] - 1s 4ms/step - loss: 0.0062 - accuracy: 0.9979\n",
            "CNN 1D test accuracy = 99.79056715965271\n"
          ]
        }
      ],
      "source": [
        "# Reshape the data - 1 dimensional feed\n",
        "Input_1D = X.reshape([-1,1681,1])\n",
        "\n",
        "# Test-Train Split\n",
        "X_1D_train, X_1D_test, y_1D_train, y_1D_test = train_test_split(Input_1D, Y_CNN, train_size=0.75,test_size=0.25, random_state=101)\n",
        "\n",
        "class CNN_1D():\n",
        "  def __init__(self):\n",
        "    self.model = self.CreateModel()\n",
        "\n",
        "  def CreateModel(self):\n",
        "    model = models.Sequential([\n",
        "        layers.Conv1D(filters=16, kernel_size=3, strides=2, activation='relu'),\n",
        "        layers.MaxPool1D(pool_size=2),\n",
        "        layers.Conv1D(filters=32, kernel_size=3, strides=2, activation='relu'),\n",
        "        layers.MaxPool1D(pool_size=2),\n",
        "        layers.Conv1D(filters=64, kernel_size=3, strides=2, activation='relu'),\n",
        "        layers.MaxPool1D(pool_size=2),\n",
        "        layers.Conv1D(filters=128, kernel_size=3, strides=2, activation='relu'),\n",
        "        layers.MaxPool1D(pool_size=2),\n",
        "        layers.Flatten(),\n",
        "        layers.InputLayer(),\n",
        "        layers.Dense(100,activation='relu'),\n",
        "        layers.Dense(50,activation='relu'),\n",
        "        layers.Dense(10),\n",
        "        layers.Softmax()\n",
        "        ])\n",
        "    model.compile(optimizer='adam',\n",
        "              loss=tf.keras.losses.CategoricalCrossentropy(),\n",
        "              metrics=['accuracy'])\n",
        "    return model\n",
        "\n",
        "\n",
        "accuracy_1D = []\n",
        "\n",
        "# Train the model\n",
        "for train, test in kfold.split(X_1D_train,y_1D_train):\n",
        "    Classification_1D = CNN_1D()\n",
        "    history = Classification_1D.model.fit(X_1D_train[train], y_1D_train[train], verbose=1, epochs=12)\n",
        "\n",
        "    # Evaluate the accuracy of the model on the training set\n",
        "    kf_loss, kf_accuracy = Classification_1D.model.evaluate(X_1D_train[test], y_1D_train[test])\n",
        "    accuracy_1D.append(kf_accuracy)\n",
        "\n",
        "CNN_1D_train_accuracy = np.average(accuracy_1D)*100\n",
        "print('CNN 1D train accuracy =', CNN_1D_train_accuracy)\n",
        "\n",
        "\n",
        "# Evaluate the accuracy of the model on the test set\n",
        "CNN_1D_test_loss, CNN_1D_test_accuracy = Classification_1D.model.evaluate(X_1D_test, y_1D_test)\n",
        "CNN_1D_test_accuracy*=100\n",
        "print('CNN 1D test accuracy =', CNN_1D_test_accuracy)"
      ]
    },
    {
      "cell_type": "markdown",
      "metadata": {
        "id": "44h6CV96OCJQ"
      },
      "source": [
        "## Confusion Matrix"
      ]
    },
    {
      "cell_type": "markdown",
      "metadata": {
        "id": "okDndEqZWfS6"
      },
      "source": []
    },
    {
      "cell_type": "code",
      "execution_count": null,
      "metadata": {
        "id": "saNhAAYT6gpg",
        "colab": {
          "base_uri": "https://localhost:8080/",
          "height": 1000
        },
        "outputId": "7e7fa48e-f825-4937-8675-6fcfb5f578fa"
      },
      "outputs": [
        {
          "output_type": "stream",
          "name": "stdout",
          "text": [
            "940/940 [==============================] - 2s 2ms/step\n"
          ]
        },
        {
          "output_type": "display_data",
          "data": {
            "text/plain": [
              "<Figure size 640x480 with 2 Axes>"
            ],
            "image/png": "[encoded data removed]"
          },
          "metadata": {}
        },
        {
          "output_type": "stream",
          "name": "stdout",
          "text": [
            "314/314 [==============================] - 1s 2ms/step\n"
          ]
        },
        {
          "output_type": "display_data",
          "data": {
            "text/plain": [
              "<Figure size 640x480 with 2 Axes>"
            ],
            "image/png": "[encoded data removed]"
          },
          "metadata": {}
        },
        {
          "output_type": "display_data",
          "data": {
            "text/plain": [
              "<Figure size 640x480 with 1 Axes>"
            ],
            "image/png": "[encoded data removed]"
          },
          "metadata": {}
        },
        {
          "output_type": "display_data",
          "data": {
            "text/plain": [
              "<Figure size 640x480 with 1 Axes>"
            ],
            "image/png": "[encoded data removed]"
          },
          "metadata": {}
        }
      ],
      "source": [
        "def ConfusionMatrix(Model, X, y):\n",
        "  y_pred = np.argmax(Model.model.predict(X), axis=1)\n",
        "  ConfusionMat = confusion_matrix(np.argmax(y, axis=1), y_pred)\n",
        "  return ConfusionMat\n",
        "\n",
        "  plt.figure(1)\n",
        "plt.title('Confusion Matrix - CNN 1D Train')\n",
        "sns.heatmap(ConfusionMatrix(Classification_1D, X_1D_train, y_1D_train) , annot=True, fmt='d',annot_kws={\"fontsize\":8},cmap=\"YlGnBu\")\n",
        "plt.show()\n",
        "\n",
        "plt.figure(2)\n",
        "plt.title('Confusion Matrix - CNN 1D Test')\n",
        "sns.heatmap(ConfusionMatrix(Classification_1D, X_1D_test, y_1D_test) , annot=True, fmt='d',annot_kws={\"fontsize\":8},cmap=\"YlGnBu\")\n",
        "plt.show()\n",
        "\n",
        "plt.figure(3)\n",
        "plt.title('Train - Accuracy - CNN 1D')\n",
        "plt.bar(np.arange(1,kSplits+1),[i*100 for i in accuracy_1D])\n",
        "plt.ylabel('accuracy')\n",
        "plt.xlabel('folds')\n",
        "plt.ylim([70,100])\n",
        "plt.show()\n",
        "\n",
        "plt.figure(4)\n",
        "plt.title('Train vs Test Accuracy - CNN 1D')\n",
        "plt.bar([1,2],[CNN_1D_train_accuracy,CNN_1D_test_accuracy])\n",
        "plt.ylabel('accuracy')\n",
        "plt.xlabel('folds')\n",
        "plt.xticks([1,2],['Train', 'Test'])\n",
        "plt.ylim([70,100])\n",
        "plt.show()"
      ]
    },
    {
      "cell_type": "markdown",
      "metadata": {
        "id": "Ei0uqFXTOHlt"
      },
      "source": [
        "## Save the model"
      ]
    },
    {
      "cell_type": "code",
      "execution_count": null,
      "metadata": {
        "id": "z2j9VlIAOKuq",
        "colab": {
          "base_uri": "https://localhost:8080/"
        },
        "outputId": "de751a91-9f21-441c-c229-8a87d3b2a2bd"
      },
      "outputs": [
        {
          "output_type": "stream",
          "name": "stdout",
          "text": [
            "Model saved\n"
          ]
        }
      ],
      "source": [
        "# Save the model\n",
        "Classification_1D.model.save('CNN_1D.keras')\n",
        "print('Model saved')"
      ]
    },
    {
      "cell_type": "markdown",
      "metadata": {
        "id": "jvKcYPDrOOpL"
      },
      "source": [
        "## Predict the uploaded mat file"
      ]
    },
    {
      "cell_type": "code",
      "execution_count": null,
      "metadata": {
        "id": "HLIhhPxprAjc",
        "colab": {
          "base_uri": "https://localhost:8080/",
          "height": 73
        },
        "outputId": "f26f60b6-6125-476c-8669-b6b235c02a96"
      },
      "outputs": [
        {
          "output_type": "display_data",
          "data": {
            "text/plain": [
              "<IPython.core.display.HTML object>"
            ],
            "text/html": [
              "\n",
              "     <input type=\"file\" id=\"files-d6d9faf6-5790-4945-9d54-b11c07c27d78\" name=\"files[]\" multiple disabled\n",
              "        style=\"border:none\" />\n",
              "     <output id=\"result-d6d9faf6-5790-4945-9d54-b11c07c27d78\">\n",
              "      Upload widget is only available when the cell has been executed in the\n",
              "      current browser session. Please rerun this cell to enable.\n",
              "      </output>\n",
              "      <script>// Copyright 2017 Google LLC\n",
              "//\n",
              "// Licensed under the Apache License, Version 2.0 (the \"License\");\n",
              "// you may not use this file except in compliance with the License.\n",
              "// You may obtain a copy of the License at\n",
              "//\n",
              "//      http://www.apache.org/licenses/LICENSE-2.0\n",
              "//\n",
              "// Unless required by applicable law or agreed to in writing, software\n",
              "// distributed under the License is distributed on an \"AS IS\" BASIS,\n",
              "// WITHOUT WARRANTIES OR CONDITIONS OF ANY KIND, either express or implied.\n",
              "// See the License for the specific language governing permissions and\n",
              "// limitations under the License.\n",
              "\n",
              "/**\n",
              " * @fileoverview Helpers for google.colab Python module.\n",
              " */\n",
              "(function(scope) {\n",
              "function span(text, styleAttributes = {}) {\n",
              "  const element = document.createElement('span');\n",
              "  element.textContent = text;\n",
              "  for (const key of Object.keys(styleAttributes)) {\n",
              "    element.style[key] = styleAttributes[key];\n",
              "  }\n",
              "  return element;\n",
              "}\n",
              "\n",
              "// Max number of bytes which will be uploaded at a time.\n",
              "const MAX_PAYLOAD_SIZE = 100 * 1024;\n",
              "\n",
              "function _uploadFiles(inputId, outputId) {\n",
              "  const steps = uploadFilesStep(inputId, outputId);\n",
              "  const outputElement = document.getElementById(outputId);\n",
              "  // Cache steps on the outputElement to make it available for the next call\n",
              "  // to uploadFilesContinue from Python.\n",
              "  outputElement.steps = steps;\n",
              "\n",
              "  return _uploadFilesContinue(outputId);\n",
              "}\n",
              "\n",
              "// This is roughly an async generator (not supported in the browser yet),\n",
              "// where there are multiple asynchronous steps and the Python side is going\n",
              "// to poll for completion of each step.\n",
              "// This uses a Promise to block the python side on completion of each step,\n",
              "// then passes the result of the previous step as the input to the next step.\n",
              "function _uploadFilesContinue(outputId) {\n",
              "  const outputElement = document.getElementById(outputId);\n",
              "  const steps = outputElement.steps;\n",
              "\n",
              "  const next = steps.next(outputElement.lastPromiseValue);\n",
              "  return Promise.resolve(next.value.promise).then((value) => {\n",
              "    // Cache the last promise value to make it available to the next\n",
              "    // step of the generator.\n",
              "    outputElement.lastPromiseValue = value;\n",
              "    return next.value.response;\n",
              "  });\n",
              "}\n",
              "\n",
              "/**\n",
              " * Generator function which is called between each async step of the upload\n",
              " * process.\n",
              " * @param {string} inputId Element ID of the input file picker element.\n",
              " * @param {string} outputId Element ID of the output display.\n",
              " * @return {!Iterable<!Object>} Iterable of next steps.\n",
              " */\n",
              "function* uploadFilesStep(inputId, outputId) {\n",
              "  const inputElement = document.getElementById(inputId);\n",
              "  inputElement.disabled = false;\n",
              "\n",
              "  const outputElement = document.getElementById(outputId);\n",
              "  outputElement.innerHTML = '';\n",
              "\n",
              "  const pickedPromise = new Promise((resolve) => {\n",
              "    inputElement.addEventListener('change', (e) => {\n",
              "      resolve(e.target.files);\n",
              "    });\n",
              "  });\n",
              "\n",
              "  const cancel = document.createElement('button');\n",
              "  inputElement.parentElement.appendChild(cancel);\n",
              "  cancel.textContent = 'Cancel upload';\n",
              "  const cancelPromise = new Promise((resolve) => {\n",
              "    cancel.onclick = () => {\n",
              "      resolve(null);\n",
              "    };\n",
              "  });\n",
              "\n",
              "  // Wait for the user to pick the files.\n",
              "  const files = yield {\n",
              "    promise: Promise.race([pickedPromise, cancelPromise]),\n",
              "    response: {\n",
              "      action: 'starting',\n",
              "    }\n",
              "  };\n",
              "\n",
              "  cancel.remove();\n",
              "\n",
              "  // Disable the input element since further picks are not allowed.\n",
              "  inputElement.disabled = true;\n",
              "\n",
              "  if (!files) {\n",
              "    return {\n",
              "      response: {\n",
              "        action: 'complete',\n",
              "      }\n",
              "    };\n",
              "  }\n",
              "\n",
              "  for (const file of files) {\n",
              "    const li = document.createElement('li');\n",
              "    li.append(span(file.name, {fontWeight: 'bold'}));\n",
              "    li.append(span(\n",
              "        `(${file.type || 'n/a'}) - ${file.size} bytes, ` +\n",
              "        `last modified: ${\n",
              "            file.lastModifiedDate ? file.lastModifiedDate.toLocaleDateString() :\n",
              "                                    'n/a'} - `));\n",
              "    const percent = span('0% done');\n",
              "    li.appendChild(percent);\n",
              "\n",
              "    outputElement.appendChild(li);\n",
              "\n",
              "    const fileDataPromise = new Promise((resolve) => {\n",
              "      const reader = new FileReader();\n",
              "      reader.onload = (e) => {\n",
              "        resolve(e.target.result);\n",
              "      };\n",
              "      reader.readAsArrayBuffer(file);\n",
              "    });\n",
              "    // Wait for the data to be ready.\n",
              "    let fileData = yield {\n",
              "      promise: fileDataPromise,\n",
              "      response: {\n",
              "        action: 'continue',\n",
              "      }\n",
              "    };\n",
              "\n",
              "    // Use a chunked sending to avoid message size limits. See b/62115660.\n",
              "    let position = 0;\n",
              "    do {\n",
              "      const length = Math.min(fileData.byteLength - position, MAX_PAYLOAD_SIZE);\n",
              "      const chunk = new Uint8Array(fileData, position, length);\n",
              "      position += length;\n",
              "\n",
              "      const base64 = btoa(String.fromCharCode.apply(null, chunk));\n",
              "      yield {\n",
              "        response: {\n",
              "          action: 'append',\n",
              "          file: file.name,\n",
              "          data: base64,\n",
              "        },\n",
              "      };\n",
              "\n",
              "      let percentDone = fileData.byteLength === 0 ?\n",
              "          100 :\n",
              "          Math.round((position / fileData.byteLength) * 100);\n",
              "      percent.textContent = `${percentDone}% done`;\n",
              "\n",
              "    } while (position < fileData.byteLength);\n",
              "  }\n",
              "\n",
              "  // All done.\n",
              "  yield {\n",
              "    response: {\n",
              "      action: 'complete',\n",
              "    }\n",
              "  };\n",
              "}\n",
              "\n",
              "scope.google = scope.google || {};\n",
              "scope.google.colab = scope.google.colab || {};\n",
              "scope.google.colab._files = {\n",
              "  _uploadFiles,\n",
              "  _uploadFilesContinue,\n",
              "};\n",
              "})(self);\n",
              "</script> "
            ]
          },
          "metadata": {}
        },
        {
          "output_type": "stream",
          "name": "stdout",
          "text": [
            "Saving 97.mat to 97.mat\n"
          ]
        }
      ],
      "source": [
        "from google.colab import files\n",
        "uploaded = files.upload()"
      ]
    },
    {
      "cell_type": "code",
      "execution_count": null,
      "metadata": {
        "id": "xv5c70os_G-Z",
        "colab": {
          "base_uri": "https://localhost:8080/"
        },
        "outputId": "57fc25fc-e1a8-4205-d2a4-3d403f178d71"
      },
      "outputs": [
        {
          "output_type": "stream",
          "name": "stdout",
          "text": [
            "(243938, 1)\n",
            "No_of_blocks: 1210\n",
            "38/38 [==============================] - 0s 6ms/step\n",
            "[0 0 0 ... 0 0 0]\n",
            "Predicted class: 0\n"
          ]
        }
      ],
      "source": [
        "def Sampling(Data, interval_length, samples_per_block):\n",
        "    No_of_blocks = (len(Data) // interval_length) - (samples_per_block // interval_length) - 1\n",
        "    if No_of_blocks <= 0:\n",
        "        raise ValueError(f\"Invalid number of blocks calculated: {No_of_blocks}. Check interval_length and samples_per_block.\")\n",
        "    print(f\"No_of_blocks: {No_of_blocks}\")\n",
        "    SplitData = np.zeros((No_of_blocks, samples_per_block))\n",
        "    for i in range(No_of_blocks):\n",
        "        SplitData[i, :] = Data[i * interval_length : (i * interval_length) + samples_per_block].T\n",
        "    return SplitData\n",
        "\n",
        "#load the model\n",
        "model = models.load_model('CNN_1D.keras')\n",
        "\n",
        "file = list(uploaded.keys())[0]\n",
        "\n",
        "data = loadmat(file)\n",
        "\n",
        "#list the keys\n",
        "data.keys()\n",
        "\n",
        "#file name is first 4 char\n",
        "file_name = file.split('.')[0]\n",
        "file_name = file_name[0:3]\n",
        "key = 'X' + file_name.zfill(3) + '_DE_time'\n",
        "\n",
        "data = data[key]\n",
        "\n",
        "print(data.shape)\n",
        "\n",
        "interval_length = 200\n",
        "samples_per_block = 1681\n",
        "\n",
        "data = Sampling(data, interval_length, samples_per_block)\n",
        "\n",
        "df = pd.DataFrame(data)\n",
        "\n",
        "# Reshape the data - 1 dimensional feed\n",
        "Input_1D = df.values.reshape([-1,1681,1])\n",
        "\n",
        "Prediction_arr = model.predict(Input_1D)\n",
        "\n",
        "predicted_class = np.argmax(Prediction_arr, axis=1)\n",
        "\n",
        "print(predicted_class)\n",
        "\n",
        "predicted_class_mode = np.bincount(predicted_class).argmax()  # Get the most frequent predicted class\n",
        "\n",
        "print(\"Predicted class:\", predicted_class_mode)\n",
        "\n"
      ]
    },
    {
      "cell_type": "markdown",
      "metadata": {
        "id": "CFbEhjxj_1aF"
      },
      "source": [
        "# Flask Goes here"
      ]
    },
    {
      "cell_type": "markdown",
      "metadata": {
        "id": "VG_q466XAIzl"
      },
      "source": [
        "### download the following for flask to run it (!!!you dont need to run this section everytime, just 1 time if you havent installed yet!!!)"
      ]
    },
    {
      "cell_type": "code",
      "execution_count": null,
      "metadata": {
        "id": "LlOOqFYwAFqP",
        "colab": {
          "base_uri": "https://localhost:8080/"
        },
        "outputId": "df2be12d-c146-4786-9aba-685bc5942e33"
      },
      "outputs": [
        {
          "output_type": "stream",
          "name": "stdout",
          "text": [
            "Requirement already satisfied: Flask in /usr/local/lib/python3.10/dist-packages (2.2.5)\n",
            "Collecting Flask-Cors\n",
            "  Downloading Flask_Cors-4.0.1-py2.py3-none-any.whl (14 kB)\n",
            "Requirement already satisfied: Werkzeug>=2.2.2 in /usr/local/lib/python3.10/dist-packages (from Flask) (3.0.3)\n",
            "Requirement already satisfied: Jinja2>=3.0 in /usr/local/lib/python3.10/dist-packages (from Flask) (3.1.4)\n",
            "Requirement already satisfied: itsdangerous>=2.0 in /usr/local/lib/python3.10/dist-packages (from Flask) (2.2.0)\n",
            "Requirement already satisfied: click>=8.0 in /usr/local/lib/python3.10/dist-packages (from Flask) (8.1.7)\n",
            "Requirement already satisfied: MarkupSafe>=2.0 in /usr/local/lib/python3.10/dist-packages (from Jinja2>=3.0->Flask) (2.1.5)\n",
            "Installing collected packages: Flask-Cors\n",
            "Successfully installed Flask-Cors-4.0.1\n"
          ]
        }
      ],
      "source": [
        "!pip install Flask Flask-Cors"
      ]
    },
    {
      "cell_type": "markdown",
      "metadata": {
        "id": "KWxsNM16APCP"
      },
      "source": [
        "this flask code will make python file [app.py] in and start it in a subprocess, then pyngrok will publish the app to a public url, you need to put this public url in hte html codel sample.html"
      ]
    },
    {
      "cell_type": "code",
      "execution_count": null,
      "metadata": {
        "id": "Ok-wLNYE_0uN"
      },
      "outputs": [],
      "source": [
        "import subprocess\n",
        "import sys\n",
        "from pyngrok import ngrok\n",
        "\n",
        "with open('app.py', 'w') as f:\n",
        "    f.write(\"\"\"\n",
        "\n",
        "import subprocess\n",
        "import sys\n",
        "from pyngrok import ngrok\n",
        "from flask import Flask, request, jsonify\n",
        "from flask_cors import CORS\n",
        "import os\n",
        "import pandas as pd\n",
        "import numpy as np\n",
        "from scipy.io import loadmat\n",
        "import tensorflow as tf\n",
        "from tensorflow.keras import models\n",
        "import logging\n",
        "\n",
        "# Set up logging\n",
        "logging.basicConfig(level=logging.DEBUG)\n",
        "\n",
        "# Define a mapping of class numbers to class names\n",
        "class_names = {\n",
        "    0: \"Normal\",\n",
        "    1: \"Inner Race Fault\",\n",
        "    2: \"Ball Fault\",\n",
        "    3: \"Outer Race Fault\",\n",
        "    4: \"Inner Race Fault 1\",\n",
        "    5: \"Ball Fault\",\n",
        "    6: \"Outer Race Fault 1\",\n",
        "    7: \"Inner Race Fault 2\",\n",
        "    8: \"Ball Fault 2\",\n",
        "    9: \"Outer Race Fault 2\",\n",
        "    # Add more class mappings as needed\n",
        "}\n",
        "\n",
        "#data_to_process = [normal, ir_007, ball_007, or_007, ir_014, ball_014, or_014, ir_021, ball_021, or_021]\n",
        "\n",
        "app = Flask(__name__)\n",
        "CORS(app)\n",
        "\n",
        "# Load your trained model\n",
        "model = models.load_model('CNN_1D.keras')\n",
        "\n",
        "def Sampling(Data, interval_length, samples_per_block):\n",
        "    No_of_blocks = (len(Data) // interval_length) - (samples_per_block // interval_length) - 1\n",
        "    if No_of_blocks <= 0:\n",
        "        raise ValueError(f\"Invalid number of blocks calculated: {No_of_blocks}. Check interval_length and samples_per_block.\")\n",
        "    SplitData = np.zeros((No_of_blocks, samples_per_block))\n",
        "    for i in range(No_of_blocks):\n",
        "        SplitData[i, :] = Data[i * interval_length : (i * interval_length) + samples_per_block].T\n",
        "    return SplitData\n",
        "\n",
        "@app.route('/upload', methods=['POST'])\n",
        "def upload_file():\n",
        "    if 'file' not in request.files:\n",
        "        return jsonify({'error': 'No file part'}), 400\n",
        "    file = request.files['file']\n",
        "    if file.filename == '':\n",
        "        return jsonify({'error': 'No selected file'}), 400\n",
        "    if file:\n",
        "        filepath = os.path.join(\"/content/\", file.filename)\n",
        "        file.save(filepath)\n",
        "\n",
        "        data = loadmat(filepath)\n",
        "        file_name = file.filename.split('.')[0][:3]\n",
        "        key = 'X' + file_name.zfill(3) + '_DE_time'\n",
        "\n",
        "        if key not in data:\n",
        "            return jsonify({'error': f'Key {key} not found in the .mat file'}), 400\n",
        "\n",
        "        data = data[key]\n",
        "        interval_length = 200\n",
        "        samples_per_block = 1681\n",
        "        data = Sampling(data, interval_length, samples_per_block)\n",
        "\n",
        "        df = pd.DataFrame(data)\n",
        "        Input_1D = df.values.reshape([-1, 1681, 1])\n",
        "        Prediction_arr = model.predict(Input_1D)\n",
        "        predicted_class = np.argmax(Prediction_arr, axis=1)\n",
        "        predicted_class_mode = np.bincount(predicted_class).argmax()\n",
        "\n",
        "        # Get the class name from the prediction\n",
        "        class_name = class_names.get(predicted_class_mode, \"Unknown class\")\n",
        "\n",
        "\n",
        "        response = {'predicted_class': class_name}\n",
        "        app.logger.debug(f'Response: {response}')\n",
        "\n",
        "        return jsonify({'predicted_class': class_name}), 200\n",
        "\n",
        "\n",
        "if __name__ == '__main__':\n",
        "    app.run(host='0.0.0.0', port=5000)\n",
        "    \"\"\")\n",
        "\n",
        "# Start the Flask app in the background\n",
        "process = subprocess.Popen([sys.executable, 'app.py'])\n",
        "\n"
      ]
    },
    {
      "cell_type": "markdown",
      "metadata": {
        "id": "sQSvc2NLzbPT"
      },
      "source": [
        "the following code has the structure: !ngrok authtoken (key), if the key is not valid anymore, go to https://ngrok.com/ and sign up, then go to https://dashboard.ngrok.com/get-started/your-authtoken and copy the authentication code at the top of the page and paste it instead of the key in the below cell."
      ]
    },
    {
      "cell_type": "code",
      "source": [
        "!wget -q -O ngrok.zip https://bin.equinox.io/c/4VmDzA7iaHb/ngrok-stable-linux-amd64.zip\n",
        "!unzip -o ngrok.zip\n"
      ],
      "metadata": {
        "id": "Gm6e0qLVLqYF",
        "colab": {
          "base_uri": "https://localhost:8080/"
        },
        "outputId": "59402298-4688-4a00-ca48-70be2e25056e"
      },
      "execution_count": null,
      "outputs": [
        {
          "output_type": "stream",
          "name": "stdout",
          "text": [
            "Archive:  ngrok.zip\n",
            "  inflating: ngrok                   \n"
          ]
        }
      ]
    },
    {
      "cell_type": "code",
      "source": [
        "!pip install pyngrok\n"
      ],
      "metadata": {
        "id": "ndaZO7bgMFTc",
        "colab": {
          "base_uri": "https://localhost:8080/"
        },
        "outputId": "3966b952-5d4f-4f20-a321-fdb68c5b6f31"
      },
      "execution_count": null,
      "outputs": [
        {
          "output_type": "stream",
          "name": "stdout",
          "text": [
            "Collecting pyngrok\n",
            "  Downloading pyngrok-7.1.6-py3-none-any.whl (22 kB)\n",
            "Requirement already satisfied: PyYAML>=5.1 in /usr/local/lib/python3.10/dist-packages (from pyngrok) (6.0.1)\n",
            "Installing collected packages: pyngrok\n",
            "Successfully installed pyngrok-7.1.6\n"
          ]
        }
      ]
    },
    {
      "cell_type": "code",
      "execution_count": null,
      "metadata": {
        "id": "WlTs9Wi5IfXe",
        "colab": {
          "base_uri": "https://localhost:8080/"
        },
        "outputId": "4a3f9a0e-93d3-41d2-ec6e-ca64027bf334"
      },
      "outputs": [
        {
          "output_type": "stream",
          "name": "stdout",
          "text": [
            "Authtoken saved to configuration file: /root/.config/ngrok/ngrok.yml\n"
          ]
        }
      ],
      "source": [
        "!ngrok config add-authtoken 2ixNxgODSVuwgwo0Wyv1PBCo5pl_83v4QeYoRoqpfSJVLteF"
      ]
    },
    {
      "cell_type": "markdown",
      "source": [],
      "metadata": {
        "id": "uHHpzZqWcqYy"
      }
    },
    {
      "cell_type": "code",
      "source": [
        "!pkill ngrok"
      ],
      "metadata": {
        "id": "fdhz-RGndYk-"
      },
      "execution_count": null,
      "outputs": []
    },
    {
      "cell_type": "code",
      "source": [
        "!ngrok tunnels close tn_2iyO38EfGGsgtcQ4X3qhiLChaVK\n",
        "!ngrok tunnels close tn_2iyNdQn9WQs61iJLpf5mql0kk7r\n",
        "!ngrok tunnels close tn_2iyO9SHmdIPZOOnGvNGL9pA2Pl3"
      ],
      "metadata": {
        "id": "U3bxp_j0caAy",
        "colab": {
          "base_uri": "https://localhost:8080/"
        },
        "outputId": "5443d170-949d-416b-a134-b1104116ede8"
      },
      "execution_count": null,
      "outputs": [
        {
          "output_type": "stream",
          "name": "stdout",
          "text": [
            "ngrok - tunnel local ports to public URLs and inspect traffic\n",
            "\n",
            "USAGE:\n",
            "  ngrok [command] [flags]\n",
            "\n",
            "AUTHOR:\n",
            "  ngrok - <support@ngrok.com>\n",
            "\n",
            "COMMANDS: \n",
            "  config          update or migrate ngrok's configuration file\n",
            "  http            start an HTTP tunnel\n",
            "  tcp             start a TCP tunnel\n",
            "  tunnel          start a tunnel for use with a tunnel-group backend\n",
            "\n",
            "EXAMPLES: \n",
            "  ngrok http 80                                                 # secure public URL for port 80 web server\n",
            "  ngrok http --domain baz.ngrok.dev 8080                        # port 8080 available at baz.ngrok.dev\n",
            "  ngrok tcp 22                                                  # tunnel arbitrary TCP traffic to port 22\n",
            "  ngrok http 80 --oauth=google --oauth-allow-email=foo@foo.com  # secure your app with oauth\n",
            "\n",
            "Paid Features: \n",
            "  ngrok http 80 --domain mydomain.com                           # run ngrok with your own custom domain\n",
            "  ngrok http 80 --allow-cidr 2600:8c00::a03c:91ee:fe69:9695/32  # run ngrok with IP policy restrictions\n",
            "  Upgrade your account at https://dashboard.ngrok.com/billing/subscription to access paid features\n",
            "\n",
            "Upgrade your account at https://dashboard.ngrok.com/billing/subscription to access paid features\n",
            "\n",
            "Flags:\n",
            "  -h, --help      help for ngrok\n",
            "\n",
            "Use \"ngrok [command] --help\" for more information about a command.\n",
            "ngrok - tunnel local ports to public URLs and inspect traffic\n",
            "\n",
            "USAGE:\n",
            "  ngrok [command] [flags]\n",
            "\n",
            "AUTHOR:\n",
            "  ngrok - <support@ngrok.com>\n",
            "\n",
            "COMMANDS: \n",
            "  config          update or migrate ngrok's configuration file\n",
            "  http            start an HTTP tunnel\n",
            "  tcp             start a TCP tunnel\n",
            "  tunnel          start a tunnel for use with a tunnel-group backend\n",
            "\n",
            "EXAMPLES: \n",
            "  ngrok http 80                                                 # secure public URL for port 80 web server\n",
            "  ngrok http --domain baz.ngrok.dev 8080                        # port 8080 available at baz.ngrok.dev\n",
            "  ngrok tcp 22                                                  # tunnel arbitrary TCP traffic to port 22\n",
            "  ngrok http 80 --oauth=google --oauth-allow-email=foo@foo.com  # secure your app with oauth\n",
            "\n",
            "Paid Features: \n",
            "  ngrok http 80 --domain mydomain.com                           # run ngrok with your own custom domain\n",
            "  ngrok http 80 --allow-cidr 2600:8c00::a03c:91ee:fe69:9695/32  # run ngrok with IP policy restrictions\n",
            "  Upgrade your account at https://dashboard.ngrok.com/billing/subscription to access paid features\n",
            "\n",
            "Upgrade your account at https://dashboard.ngrok.com/billing/subscription to access paid features\n",
            "\n",
            "Flags:\n",
            "  -h, --help      help for ngrok\n",
            "\n",
            "Use \"ngrok [command] --help\" for more information about a command.\n",
            "ngrok - tunnel local ports to public URLs and inspect traffic\n",
            "\n",
            "USAGE:\n",
            "  ngrok [command] [flags]\n",
            "\n",
            "AUTHOR:\n",
            "  ngrok - <support@ngrok.com>\n",
            "\n",
            "COMMANDS: \n",
            "  config          update or migrate ngrok's configuration file\n",
            "  http            start an HTTP tunnel\n",
            "  tcp             start a TCP tunnel\n",
            "  tunnel          start a tunnel for use with a tunnel-group backend\n",
            "\n",
            "EXAMPLES: \n",
            "  ngrok http 80                                                 # secure public URL for port 80 web server\n",
            "  ngrok http --domain baz.ngrok.dev 8080                        # port 8080 available at baz.ngrok.dev\n",
            "  ngrok tcp 22                                                  # tunnel arbitrary TCP traffic to port 22\n",
            "  ngrok http 80 --oauth=google --oauth-allow-email=foo@foo.com  # secure your app with oauth\n",
            "\n",
            "Paid Features: \n",
            "  ngrok http 80 --domain mydomain.com                           # run ngrok with your own custom domain\n",
            "  ngrok http 80 --allow-cidr 2600:8c00::a03c:91ee:fe69:9695/32  # run ngrok with IP policy restrictions\n",
            "  Upgrade your account at https://dashboard.ngrok.com/billing/subscription to access paid features\n",
            "\n",
            "Upgrade your account at https://dashboard.ngrok.com/billing/subscription to access paid features\n",
            "\n",
            "Flags:\n",
            "  -h, --help      help for ngrok\n",
            "\n",
            "Use \"ngrok [command] --help\" for more information about a command.\n"
          ]
        }
      ]
    },
    {
      "cell_type": "code",
      "execution_count": null,
      "metadata": {
        "id": "XaFsECA4tGUK",
        "colab": {
          "base_uri": "https://localhost:8080/"
        },
        "outputId": "7c6893ee-afff-42e0-dfb4-b7478c6d5a27"
      },
      "outputs": [
        {
          "output_type": "stream",
          "name": "stdout",
          "text": [
            "Public URL: NgrokTunnel: \"https://f8e0-35-240-133-75.ngrok-free.app\" -> \"http://localhost:5000\"\n"
          ]
        }
      ],
      "source": [
        "from pyngrok import ngrok\n",
        "\n",
        "# Open a tunnel to the Flask server\n",
        "public_url = ngrok.connect(5000, bind_tls=True)\n",
        "print(\"Public URL:\", public_url)\n"
      ]
    },
    {
      "cell_type": "markdown",
      "metadata": {
        "id": "n3oWS98oz5Cs"
      },
      "source": [
        "after running the last cell, you get a publi URL, for example: <br>\n",
        "https://b863-34-68-123-42.ngrok-free.app/\n",
        "<br>\n",
        "copy this link and go the sample.html and paste it instead of the existing link, this link will be different each time you run the code in the last cell (because google colab uses a virtual enviroment and your ip address will be different from time to time), if you want to make it perminant you need to run your code on your own computer, which will act as the server, but once you rerun the program the link will be different again.\n",
        "<br>\n",
        "example replacement:<br>\n",
        "at line 73 in the sample.html:<br>\n",
        " url: \"https://b863-34-68-123-42.ngrok-free.app/upload\"\n",
        "<br>\n",
        "replace https://b863-34-68-123-42.ngrok-free.app, with the last link you get<br>\n",
        "# !!! KEEP /upload !!!"
      ]
    }
  ],
  "metadata": {
    "accelerator": "GPU",
    "colab": {
      "gpuType": "T4",
      "provenance": []
    },
    "kernelspec": {
      "display_name": "Python 3",
      "name": "python3"
    },
    "language_info": {
      "name": "python"
    }
  },
  "nbformat": 4,
  "nbformat_minor": 0
}